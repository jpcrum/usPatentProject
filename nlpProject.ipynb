{
 "cells": [
  {
   "cell_type": "code",
   "execution_count": 2,
   "metadata": {
    "collapsed": true
   },
   "outputs": [],
   "source": [
    "import os\n",
    "import pandas as pd\n",
    "import re\n",
    "import nltk\n",
    "from nltk.corpus import stopwords \n",
    "from nltk.stem.wordnet import WordNetLemmatizer"
   ]
  },
  {
   "cell_type": "code",
   "execution_count": 3,
   "metadata": {
    "collapsed": true
   },
   "outputs": [],
   "source": [
    "df = pd.read_csv('C:/Users/sjcrum/Documents/Natural Language Processing/FinalProject/data/sample_data.csv')\n",
    "#print(df)"
   ]
  },
  {
   "cell_type": "code",
   "execution_count": 4,
   "metadata": {},
   "outputs": [
    {
     "data": {
      "text/plain": [
       "<pandas.core.groupby.DataFrameGroupBy object at 0x00000223F52EFCC0>"
      ]
     },
     "execution_count": 4,
     "metadata": {},
     "output_type": "execute_result"
    }
   ],
   "source": [
    "df.groupby(['pat_no'])"
   ]
  },
  {
   "cell_type": "code",
   "execution_count": 5,
   "metadata": {},
   "outputs": [
    {
     "data": {
      "text/plain": [
       "<pandas.core.groupby.DataFrameGroupBy object at 0x00000223F532D630>"
      ]
     },
     "execution_count": 5,
     "metadata": {},
     "output_type": "execute_result"
    }
   ],
   "source": [
    "df.sort_values(['pat_no', 'claim_no']).groupby(['pat_no'])"
   ]
  },
  {
   "cell_type": "code",
   "execution_count": 6,
   "metadata": {},
   "outputs": [
    {
     "name": "stdout",
     "output_type": "stream",
     "text": [
      "    pat_no                                            new_seq\n",
      "0  3930271  1. A golf glove comprising at least an index f...\n",
      "1  3930272  1. In combination with a height adjustable cri...\n",
      "2  3930273  1. A bed arrangement comprisinga bed frame,a s...\n",
      "\n",
      "\n",
      "1. In combination with a height adjustable crib or the like of the type having a corner post and an extensible leg slidably connected to the corner post and having a series of holes along its length, a lock comprisingA. a rigid bracket extending around the extensible leg and having sides lying flush against opposite sides of the corner post;B. means for pivotally connecting the bracket sides to the corner post so that the bracket can be swung toward and away from the leg;C. a rigid nose projecting from the bracket and extending toward the leg, said nose being arranged to engage in one of the leg holes when the bracket is swung against the leg so as to lock the leg at a selected position of lengthwise adjustment relative to the corner post, andD. means mounted on the corner post and cooperating with the bracket for removably retaining the bracket with its nose in said hole said retaining means comprising1. a latch pivotally connected to the corner post adjacent to the bracket, and a slot formed in a side of the bracket, the sides of the slot being engaged by the latch when the bracket is positioned with its nose in said hole. 2. The lock defined in claim 1 wherein the bracket comprises a single rigid metal stamping. 3. The lock defined in claim 1 wherein the pivotal connection of the latch to the corner post is off center so that the force of gravity tends to maintain the latch in the slot when the bracket is positioned with its nose in said hole.\n",
      "3\n"
     ]
    }
   ],
   "source": [
    "df_per_patent= df.sort_values(['pat_no', 'claim_no']).groupby('pat_no', sort=False).claim_txt.apply(' '.join).reset_index(name='new_seq')\n",
    "print(df_per_patent)\n",
    "print('\\n')\n",
    "print(df_per_patent.iloc[1,1])\n",
    "print(len(df_per_patent))"
   ]
  },
  {
   "cell_type": "code",
   "execution_count": 7,
   "metadata": {},
   "outputs": [
    {
     "name": "stdout",
     "output_type": "stream",
     "text": [
      "[\"1. A golf glove comprising at least an index finger receptacle, a middle finger receptacle and a back surface extending from said receptacles in the direction of the wrist, and further comprising another finger receptacle disposed adjacent said index finger receptacle and said middle finger receptacle and overlapping a portion of said back section. 2. A golf glove in accordance with claim 1 wherein said other finger receptacle is attached along its periphery to said index finger receptacle, said middle finger receptacle and said back surface. 3. A glove comprising an index finger receptacle, a middle finger receptacle, a back surface extending in the direction of the wrist, a finger restraining strap extending between said receptacles, and a finger restraining strap attached to said back surface adjacent said index finger receptacle and said middle finger receptacle and aligned in a direction substantially parallel to said finger restraining strap extending between said finger receptacles. 4. A golf glove adapted for use on one hand of a golf player comprising at least an index finger receptacle and further comprising a finger receptacle attached to the side of said index finger receptacle most nearly adjacent to the thumb and adapted to receive a finger of the golf player's other hand.\", '1. In combination with a height adjustable crib or the like of the type having a corner post and an extensible leg slidably connected to the corner post and having a series of holes along its length, a lock comprisingA. a rigid bracket extending around the extensible leg and having sides lying flush against opposite sides of the corner post;B. means for pivotally connecting the bracket sides to the corner post so that the bracket can be swung toward and away from the leg;C. a rigid nose projecting from the bracket and extending toward the leg, said nose being arranged to engage in one of the leg holes when the bracket is swung against the leg so as to lock the leg at a selected position of lengthwise adjustment relative to the corner post, andD. means mounted on the corner post and cooperating with the bracket for removably retaining the bracket with its nose in said hole said retaining means comprising1. a latch pivotally connected to the corner post adjacent to the bracket, and a slot formed in a side of the bracket, the sides of the slot being engaged by the latch when the bracket is positioned with its nose in said hole. 2. The lock defined in claim 1 wherein the bracket comprises a single rigid metal stamping. 3. The lock defined in claim 1 wherein the pivotal connection of the latch to the corner post is off center so that the force of gravity tends to maintain the latch in the slot when the bracket is positioned with its nose in said hole.', '1. A bed arrangement comprisinga bed frame,a side rail assembly for said bed frame, said side rail assembly comprisinga pair of separately detachable side rails each with spaced risers pivotally secured thereto, and one riser having a releasable pivot-prevention lock thereon,said risers being removably pivotally mounted on said bed frame,and a pair of nonpermanent and detachable cross members extending transversely across said bed frame and releasably engageable in pivotal interconnecting relation each with respective opposite pairs of said side rails risers,said side rail risers each having pivot pins thereon,and said cross members each having end openings for receiving said pivot pins,said cross members being relatively pivotally engaged at their end openings with said riser pivot pins, and being supported in suspended relation between and by said pivot pins,said bed frame including spaced generally parallel longitudinal side frame members with spaced holes effectively formed thereon,said cross members extending between said side frame members and having their said end openings in effective alignment with respective opposite pairs of said holes,said riser pivot pins extending through said holes and into said cross member end openings,and releasable securing means releasably securing said pins within said side frame member holes. 2. A bed arrangement according to claim 1,each of said releasable pivot-prevention locks on said risers including a latch removably pivotally engaged with a respective adjacent one of said longitudinal side frame members,said latches each having a slot therein larger in one direction than the cross section of the respective said riser pivot pin, and through which slot a respective said riser pivot pin extends to enable pivoted lock/release movement of said latch about the zone of pivotal engagement of said latch with a respective said longitudinal side frame member,and a lock pin on each of said risers which have a latch thereon and latchably engageable in riser-locking relation with said latch at one pivoted position of said latch and releasable from its riser locked relation at a second pivoted position of said latch. 3. A bed arrangement according to claim 2,the pivotal engagement of said latches with said longitudinal side frame members being about a generally horizontal pivot axis, said one pivoted position of said latch being an upward pivoted position as compared to said second pivoted position of said latch, whereby said latch is gravity biased toward said one pivoted position. 4. A bed arrangement according to claim 3,said releasable securing means comprising finger actuatable spring retainers carried by each of said risers and releasably engageable in resilient relation with said riser pivot pins. 5. A bed arrangement according to claim 4,said finger actuatable spring retainers carried by said risers which have said latch attached thereto being anchored to the respective said latch and releasably engageable in spring biased locking relation with the respective adjacent said riser pivot pin. 6. A bed arrangement according to claim 5,said finger actuatable spring retainers which are anchored to said latches being anchored each to its respective said latch in spaced relation from the respective said riser pivot pin and engaging the respective said riser pivot pin in cantilevered spring biasing relation toward a locked position with respect to said latchably engageable further pin on the respective said riser. 7. A bed arrangement according to claim 6,a pivotal engagement of each of said latches with said longitudinal side frame members being about a respective generally horizontal pivot axis, said one pivoted position of each said latch being an upward pivoted position as compared to said second pivoted position of said latch, whereby said latch is gravity biased toward said one pivoted position. 8. A bed arrangement according to claim 6,said riser pivot pins each having a groove therein for releasable retentive engagement by said spring retainers on the inner side of the respective said longitudinal side frame member. 9. A bed arrangement according to claim 8,two of said spring retainers being each secured in latch-engaging relation to a respective one of said riser pivot pins and being also releasably engageable with a said groove in the respective said pivot pin at a position spaced along the length of said pin from said wrap-engaging relation position of said spring retainer on the respective said pin. 10. A bed arrangement according to claim 9,each of said spring retainers having a finger engageable loop thereon for finger actuated locking or release thereof relative to its said riser pivot pin and the respective said longitudinal side frame member. 11. A bed arrangement according to claim 4,two of said spring retainers being each secured in latch-engaging relation to a respective one of said riser pivot pins and being also releasably engageable with a said groove in the respective said pivot pin at a position spaced along the length of said pin from said wrap-engaging relation position of said spring retainer on the respective said pin. 12. A bed arrangement according to claim 11,each of said spring retainers having a finger engageable loop thereon for finger actuated locking or release thereof relative to its said riser pivot pin and the respective said longitudinal side frame member. 13. A bed arrangement according to claim 1,said releasable securing means comprising finger actuatable spring retainers carried by each of said risers and releasably engageable in resilient relation with said riser pivot pins. 14. A bed arrangement according to claim 13,each of said spring retainers having a finger engageable loop thereon for finger actuated locking or release thereof relative to its said riser pivot pin and the respective said longitudinal side frame member. 15. A bed arrangement according to claim 13,said riser pivot pins each having a retention groove therein for releasable retentive engagement by said spring retainers on the inner side of the respective said longitudinal side frame member. 16. A bed arrangement according to claim 13,two of said spring retainers being each secured in latch-engaging relation to a respective one of said riser pivot pins and being also releasably engageable with a said retention groove in the respective said pivot pin at a position spaced along the length of said pin from said warp-engaging relation position of said spring retainer on the respective said pin. 17. A side rail assembly for a bed, for selective detachable connection to a bed, comprisinga pair of separately detachable side rails each with spaced risers pivotally secured thereto, and one said riser having a releasable pivot-prevention lock thereon for selectively locking said riser in a given position about a pivot axis therefor,and a pair of nonpermanent and detachable cross members, extendable transversely across a bed frame and releasably separably engageable in pivotal interconnecting relation each with respective opposite ones of each of the two risers associated with each of said side rails,each of said releasable pivot prevention locks including a selectively movable latch,said latches each having a slot therein of larger vertical extent than the respective said riser pivot pin, and through which slot a respective said riser pivot pin extends, to enable support of said latch by said pivot pin when said side rail assembly is not connected to a bed and to enable up and down lock/release movement of said latch when said latch is engaged with a bed,and a pivot-stop on each said riser which has a latch thereon and latchably engageable in locking relation with said latch at one pivoted position of said latch and releasable from its riser-locked relation at a second pivotal position of said latch. 18. A side rail assembly according to claim 17,each of said movable latches including a cam surface engageable in latch moving relation by the respective said riser stop pin as the respective said riser approaches one extent of its pivoted travel, and a slot adjacent to said cam surface and engageable in releasable locking engagement with said stop pin at said one extent to pivoted travel of the respective said one riser. 19. A bed arrangement comprisinga bed frame,a side rail assembly for said bed frame, said side rail assembly comprisinga pair of separately detachable side rails each with spaced risers pivotally secured thereto,said risers being removably pivotally mounted on an effective portion of said bed frame,and a pair of nonpermanent and detachable cross members extending transversely across said bed frame and releasably engageable in pivotal interconnecting relation each with respective opposite pairs of said side rail risers,said cross members and said side rail risers having a respective pin and socket interconnection formed therebetween at opposite end zones of said cross members,said cross members and said risers being relatively pivotally interconnectable through their respective said pin and socket interconnections,said bed frame including spaced generally parallel longitudinal side frame members with spaced holes effectively formed thereon,said cross members extending between said side frame members and said cross members and said risers being removably disposed with their respective pin and socket connections aligned with and having a portion thereof extending through spaced holes and supported on said side frame members,and releasable securing means releasably securing said pin and socket interconnections with a portion of said interconnections extending through said spaced side frame member holes. 20. A bed arrangement comprisinga bed frame,a side rail assembly for said bed frame, said side rail assembly comprisinga pair of separately detachable side rails each with spaced risers pivotally secured thereto,said risers being removably pivotally mounted on an effective portion of said bed frame,and a pair of nonpermanent and detachable cross members extending transversely across said bed frame and releasably engageable in pivotal interconnecting relation each with respective opposite pairs of said side rail risers,said side rail risers each having pivot pins thereon,and said cross members each having end openings for receiving said pivot pins,said cross members being relatively pivotally engaged at their end openings with said riser pivot pins, and being supported in suspended relation between and by said pivot pins,said bed frame including spaced generally parallel longitudinal side frame members with spaced holes effectively formed thereon,said cross members extending between said side frame members and having their said end openings in effective alignment with respective opposite pairs of said holes,said riser pivot pins extending through said holes and into said cross member end openings,and releasable securing means releasably securing said pins within said side frame member holes. 21. A bed arrangement comprisinga bed frame,a side rail assembly for said bed frame, said side rail assembly comprisinga pair of separately detachable side rails each with spaced risers pivotally secured thereto, and one riser having a releasable pivot-prevention lock thereon,said risers being removably pivotally mounted on said bed frame,and a pair of nonpermanent and manually releasably detachable lateral rigidifying stabilizers cross members extending transversely across said bed frame and releasably engageable in pivotal and lateral rigidifying interconnecting relation each with respective opposite pairs of said side rail risers,said side rail risers each having pivot pins thereon,and said detachable stabilizer cross members each having end openings for receiving said pivot pins,said cross members being relatively pivotally engaged at their end openings with said riser pivot pins, and being supported in suspended relation between and by said pivot pins,and releasable securing means releasably securing said pivot pins to said bed frame with said cross members extending therebetween,said releasable securing means comprising finger-actuatable spring retainers for each of said risers and releasably engageable in resilient relation with said riser pins,said releasable pivot-prevention lock on said riser including a latch removably pivotally engaged with a respective adjacent effective portion of one of said longitudinal side frame members,two of said spring retainers being each secured in latch-engaging relation to a respective one of said riser pivot pins and being also releasably engageable with a said groove in the respective said pivot pin at a position spaced along the length of said pin from said wrap-engaging relation position of said spring retainer on the respective said pin. 22. A bed arrangement according to claim 21,each of said spring retainers having a finger engageable loop thereon for finger actuated locking or release thereof relative to its said riser pivot pin and the respective said longitudinal side frame member. 23. A side rail assembly for selective detachable connection to a bed, having a bed frame including spaced generally parallel longitudinal side frame members with spaced holes effectively formed thereon, comprisinga side rail assembly for a said bed frame, said side rail assembly comprisinga pair of separately detachable side rails each with spaced risers pivotally secured thereto,said risers being removably pivotally mountable on an effective portion of a bed frame,and a pair of nonpermanent and detachable cross members extendable transversely across a said bed frame and releasably engageable in pivotal interconnecting relation each with respective opposite pairs of said side rail risers,said cross members and said side rail risers having a respective pin and socket interconnection formed therebetween at opposite end zones of said cross members,said cross members and said risers being relatively pivotally interconnectable through their respective said pin and socket interconnections,said cross members extending between said side frame members and said cross members and said risers being removably disposed with their respective pin and socket connections alignable with and having a portion thereof extendable through said spaced holes and supportable on said side frame members.and releasable securing means for releasably securing said pin and socket interconnections with a portion of said interconnections extending through said spaced side frame member holes. 24. A side rail assembly for selective detachable connection to a bed, having a bed frame including spaced generally parallel longitudinal side frame members with spaced holes effectively formed thereon, comprisinga side rail assembly for a said bed frame, said side rail assembly comprisinga pair of separately detachable side rails each with spaced risers pivotally secured thereto,said risers removably pivotally mountable on an effective portion of a said bed frame,and a pair of nonpermanent and detachable cross members extendable transversely across a said bed frame and releasably engageable in pivotal interconnecting relation each with respective opposite pairs of said side rail risers,said side rail risers each having pivot pins thereon,and said cross members each having end openings for receiving said pivot pins,said cross members being relatively pivotally engaged at their end openings with said riser pivot pins, and being supportable in suspended relation between and by said pivot pins,said cross members extendable transversely between said side frame members and having their said end openings in effective alignment with respective opposite pairs of said holes,said riser pivot pins extendable through said holes and into said cross member end openings,and releasable securing means for releasably securing said pins within said side frame member holes.']\n"
     ]
    }
   ],
   "source": [
    "from nltk.tokenize import word_tokenize\n",
    "from nltk.tokenize import TreebankWordTokenizer\n",
    "import nltk.data\n",
    "from nltk.stem.porter import *\n",
    "porter_stemmer = PorterStemmer()\n",
    "\n",
    "sentence_tokenizer = nltk.data.load('tokenizers/punkt/english.pickle')\n",
    "treebank_tokenizer = TreebankWordTokenizer()\n",
    "\n",
    "doc_list = []\n",
    "\n",
    "for i in range(len(df_per_patent)):\n",
    "    doc_list.append(df_per_patent.iloc[i,1])\n",
    "\n",
    "print(doc_list)\n"
   ]
  },
  {
   "cell_type": "code",
   "execution_count": 10,
   "metadata": {
    "collapsed": true
   },
   "outputs": [],
   "source": [
    "import string\n",
    "#Read in file, tokenize into sentences, and tokenize into words\n",
    "exclude = list(set(string.punctuation))\n",
    "stop = list(set(stopwords.words('english')))\n",
    "\n",
    "\n",
    "def read_file_and_tokenize(docs):\n",
    "    tokenized_docs = []\n",
    "    pattern = re.compile(r'[0-9]+.')\n",
    "    for doc in docs:\n",
    "        punkt_sentences = sentence_tokenizer.tokenize(doc)\n",
    "        filtered = [i for i in punkt_sentences if not pattern.search(i)]\n",
    "        no_punc = []\n",
    "        for i in filtered:\n",
    "            punc_free = ''.join(a for a in i if a not in exclude) \n",
    "            no_punc.append(punc_free)\n",
    "        sentence_words = [treebank_tokenizer.tokenize(sentence) for sentence in no_punc]\n",
    "        no_stops = []\n",
    "        for a in sentence_words:\n",
    "            no_stops_sub = []\n",
    "            for b in a:\n",
    "                if b not in stop:\n",
    "                    stem = porter_stemmer.stem(b)\n",
    "                    no_stops_sub.append(stem)\n",
    "            no_stops.append(no_stops_sub)\n",
    "            \n",
    "        tokenized_docs.append(no_stops)\n",
    "    return tokenized_docs\n",
    "\n",
    "token_docs = read_file_and_tokenize(doc_list)\n"
   ]
  },
  {
   "cell_type": "code",
   "execution_count": 11,
   "metadata": {
    "collapsed": true
   },
   "outputs": [],
   "source": [
    "def term_frequency(corpus):\n",
    "    terms = []\n",
    "    for doc in corpus:\n",
    "        for sentence in doc:\n",
    "            for word in sentence:\n",
    "                terms.append(word)\n",
    "    \n",
    "    unique_terms = sorted(list(set(terms)))\n",
    "\n",
    "    doc_counts = []\n",
    "    \n",
    "    for doc in corpus:\n",
    "        flat_doc = [word for sentence in doc for word in sentence]\n",
    "        counts = []\n",
    "        for word in unique_terms:\n",
    "            total = 0\n",
    "            count = flat_doc.count(word)\n",
    "            total += count\n",
    "            counts.append(total)\n",
    "            \n",
    "        doc_counts.append(counts)\n",
    "        \n",
    "    return doc_counts, unique_terms\n",
    "    \n",
    "tf_docs, terms = term_frequency(token_docs)"
   ]
  },
  {
   "cell_type": "code",
   "execution_count": null,
   "metadata": {
    "collapsed": true
   },
   "outputs": [],
   "source": [
    "# tf_df = pd.DataFrame({'Terms': terms, 'Doc1': tf_docs[0], 'Doc2': tf_docs[1], 'Doc3': tf_docs[2]})\n",
    "# tf_df.set_index('Terms', inplace=True)\n",
    "# print(tf_df)    "
   ]
  },
  {
   "cell_type": "code",
   "execution_count": null,
   "metadata": {
    "collapsed": true
   },
   "outputs": [],
   "source": []
  },
  {
   "cell_type": "markdown",
   "metadata": {
    "collapsed": true
   },
   "source": [
    "LDA Model"
   ]
  },
  {
   "cell_type": "code",
   "execution_count": 173,
   "metadata": {
    "collapsed": true
   },
   "outputs": [],
   "source": [
    "import gensim\n",
    "from gensim import corpora\n",
    "\n",
    "dictionary = corpora.Dictionary(doc_clean)\n",
    "# Converting list of documents (corpus) into Document Term Matrix using dictionary prepared above.\n",
    "doc_term_matrix = [dictionary.doc2bow(doc) for doc in doc_clean]"
   ]
  },
  {
   "cell_type": "code",
   "execution_count": 174,
   "metadata": {
    "collapsed": true
   },
   "outputs": [],
   "source": [
    "# Creating the object for LDA model using gensim library\n",
    "Lda = gensim.models.ldamodel.LdaModel\n",
    "\n",
    "# Running and Trainign LDA model on the document term matrix.\n",
    "ldamodel = Lda(doc_term_matrix, num_topics=3, id2word = dictionary, passes=50)"
   ]
  },
  {
   "cell_type": "code",
   "execution_count": 175,
   "metadata": {},
   "outputs": [
    {
     "name": "stdout",
     "output_type": "stream",
     "text": [
      "[(0, '0.114*\"said\" + 0.037*\"riser\" + 0.037*\"side\" + 0.032*\"pin\" + 0.030*\"bed\" + 0.029*\"member\" + 0.028*\"respective\" + 0.026*\"pivot\" + 0.026*\"frame\" + 0.020*\"rail\"'), (1, '0.087*\"finger\" + 0.078*\"receptacle\" + 0.066*\"said\" + 0.031*\"index\" + 0.023*\"comprising\" + 0.023*\"middle\" + 0.023*\"back\" + 0.023*\"golf\" + 0.019*\"extending\" + 0.019*\"surface\"'), (2, '0.052*\"bracket\" + 0.035*\"corner\" + 0.031*\"post\" + 0.027*\"leg\" + 0.023*\"hole\" + 0.023*\"nose\" + 0.023*\"side\" + 0.022*\"said\" + 0.018*\"lock\" + 0.018*\"latch\"')]\n"
     ]
    }
   ],
   "source": [
    "print(ldamodel.print_topics(num_topics=10, num_words=10))"
   ]
  },
  {
   "cell_type": "code",
   "execution_count": null,
   "metadata": {
    "collapsed": true
   },
   "outputs": [],
   "source": []
  },
  {
   "cell_type": "markdown",
   "metadata": {},
   "source": [
    "Document Similarity"
   ]
  },
  {
   "cell_type": "code",
   "execution_count": 247,
   "metadata": {},
   "outputs": [
    {
     "name": "stdout",
     "output_type": "stream",
     "text": [
      "Number of documents: 3\n"
     ]
    }
   ],
   "source": [
    "docs = []\n",
    "for doc in token_docs:\n",
    "    flat_doc = [word for sentence in doc for word in sentence]\n",
    "    docs.append(flat_doc)\n",
    "print(\"Number of documents:\",len(docs))"
   ]
  },
  {
   "cell_type": "code",
   "execution_count": 250,
   "metadata": {},
   "outputs": [
    {
     "name": "stdout",
     "output_type": "stream",
     "text": [
      "Number of words in dictionary: 167\n",
      "0 A\n",
      "1 adapt\n",
      "2 adjac\n",
      "3 align\n",
      "4 anoth\n",
      "5 attach\n",
      "6 back\n",
      "7 compris\n",
      "8 direct\n",
      "9 dispos\n",
      "10 extend\n",
      "11 finger\n",
      "12 glove\n",
      "13 golf\n",
      "14 hand\n",
      "15 index\n",
      "16 least\n",
      "17 middl\n",
      "18 nearli\n",
      "19 one\n",
      "20 overlap\n",
      "21 parallel\n",
      "22 player\n",
      "23 portion\n",
      "24 receiv\n",
      "25 receptacl\n",
      "26 restrain\n",
      "27 said\n",
      "28 section\n",
      "29 side\n",
      "30 strap\n",
      "31 substanti\n",
      "32 surfac\n",
      "33 thumb\n",
      "34 use\n",
      "35 wrist\n",
      "36 In\n",
      "37 adjust\n",
      "38 along\n",
      "39 andd\n",
      "40 around\n",
      "41 arrang\n",
      "42 away\n",
      "43 bracket\n",
      "44 combin\n",
      "45 comprisinga\n",
      "46 connect\n",
      "47 corner\n",
      "48 crib\n",
      "49 engag\n",
      "50 extens\n",
      "51 flush\n",
      "52 form\n",
      "53 height\n",
      "54 hole\n",
      "55 latch\n",
      "56 leg\n",
      "57 legc\n",
      "58 length\n",
      "59 lengthwis\n",
      "60 lie\n",
      "61 like\n",
      "62 lock\n",
      "63 mean\n",
      "64 nose\n",
      "65 opposit\n",
      "66 pivot\n",
      "67 posit\n",
      "68 post\n",
      "69 postb\n",
      "70 project\n",
      "71 rel\n",
      "72 rigid\n",
      "73 select\n",
      "74 seri\n",
      "75 slidabl\n",
      "76 slot\n",
      "77 swung\n",
      "78 toward\n",
      "79 type\n",
      "80 across\n",
      "81 also\n",
      "82 assembl\n",
      "83 associ\n",
      "84 axi\n",
      "85 bed\n",
      "86 bedand\n",
      "87 cross\n",
      "88 detach\n",
      "89 effect\n",
      "90 enabl\n",
      "91 end\n",
      "92 extent\n",
      "93 fingeractuat\n",
      "94 frame\n",
      "95 framea\n",
      "96 frameand\n",
      "97 gener\n",
      "98 given\n",
      "99 groov\n",
      "100 holessaid\n",
      "101 includ\n",
      "102 interconnect\n",
      "103 interconnectionssaid\n",
      "104 larger\n",
      "105 latchabl\n",
      "106 latchengag\n",
      "107 latchsaid\n",
      "108 later\n",
      "109 lockreleas\n",
      "110 longitudin\n",
      "111 manual\n",
      "112 member\n",
      "113 membersand\n",
      "114 memberssaid\n",
      "115 memberstwo\n",
      "116 mount\n",
      "117 mountabl\n",
      "118 movabl\n",
      "119 movement\n",
      "120 nonperman\n",
      "121 open\n",
      "122 openingsand\n",
      "123 pair\n",
      "124 pin\n",
      "125 pinsand\n",
      "126 pinssaid\n",
      "127 pivotprevent\n",
      "128 pivotstop\n",
      "129 prevent\n",
      "130 rail\n",
      "131 railseach\n",
      "132 relat\n",
      "133 releas\n",
      "134 remov\n",
      "135 resili\n",
      "136 respect\n",
      "137 retain\n",
      "138 rigidifi\n",
      "139 riser\n",
      "140 riserlock\n",
      "141 riserssaid\n",
      "142 second\n",
      "143 secur\n",
      "144 separ\n",
      "145 socket\n",
      "146 space\n",
      "147 spring\n",
      "148 stabil\n",
      "149 support\n",
      "150 suspend\n",
      "151 therebetween\n",
      "152 therebetweensaid\n",
      "153 thereforand\n",
      "154 therein\n",
      "155 thereof\n",
      "156 thereon\n",
      "157 thereonand\n",
      "158 thereonsaid\n",
      "159 thereto\n",
      "160 theretosaid\n",
      "161 transvers\n",
      "162 two\n",
      "163 vertic\n",
      "164 within\n",
      "165 wrapengag\n",
      "166 zone\n"
     ]
    }
   ],
   "source": [
    "dictionary = gensim.corpora.Dictionary(docs)\n",
    "print(\"Number of words in dictionary:\",len(dictionary))\n",
    "for i in range(len(dictionary)):\n",
    "    print(i, dictionary[i])"
   ]
  },
  {
   "cell_type": "code",
   "execution_count": 251,
   "metadata": {},
   "outputs": [
    {
     "name": "stdout",
     "output_type": "stream",
     "text": [
      "[[(0, 3), (1, 2), (2, 3), (3, 1), (4, 1), (5, 2), (6, 4), (7, 5), (8, 3), (9, 1), (10, 4), (11, 17), (12, 3), (13, 4), (14, 2), (15, 6), (16, 2), (17, 4), (18, 1), (19, 1), (20, 1), (21, 1), (22, 2), (23, 1), (24, 1), (25, 15), (26, 3), (27, 11), (28, 1), (29, 1), (30, 3), (31, 1), (32, 3), (33, 1), (34, 1), (35, 2)], [(2, 1), (10, 2), (19, 1), (27, 2), (29, 5), (36, 1), (37, 2), (38, 1), (39, 1), (40, 1), (41, 1), (42, 1), (43, 8), (44, 1), (45, 1), (46, 3), (47, 6), (48, 1), (49, 2), (50, 2), (51, 1), (52, 1), (53, 1), (54, 3), (55, 2), (56, 6), (57, 1), (58, 1), (59, 1), (60, 1), (61, 1), (62, 2), (63, 1), (64, 3), (65, 1), (66, 2), (67, 2), (68, 5), (69, 1), (70, 1), (71, 1), (72, 2), (73, 1), (74, 1), (75, 1), (76, 2), (77, 2), (78, 2), (79, 1)], [(0, 7), (2, 1), (3, 5), (7, 1), (9, 2), (10, 21), (19, 7), (21, 5), (23, 9), (24, 4), (27, 119), (29, 54), (38, 1), (41, 4), (45, 13), (46, 6), (49, 16), (52, 7), (54, 15), (55, 9), (58, 1), (62, 7), (63, 7), (65, 12), (66, 56), (67, 5), (71, 6), (73, 5), (76, 2), (80, 7), (81, 1), (82, 16), (83, 1), (84, 1), (85, 38), (86, 1), (87, 32), (88, 18), (89, 13), (90, 2), (91, 16), (92, 1), (93, 1), (94, 37), (95, 4), (96, 6), (97, 5), (98, 1), (99, 1), (100, 3), (101, 7), (102, 15), (103, 2), (104, 1), (105, 1), (106, 1), (107, 1), (108, 2), (109, 1), (110, 6), (111, 1), (112, 45), (113, 2), (114, 2), (115, 1), (116, 4), (117, 2), (118, 1), (119, 1), (120, 7), (121, 11), (122, 3), (123, 23), (124, 30), (125, 1), (126, 8), (127, 4), (128, 1), (129, 1), (130, 35), (131, 1), (132, 16), (133, 29), (134, 9), (135, 1), (136, 22), (137, 3), (138, 2), (139, 42), (140, 1), (141, 6), (142, 1), (143, 21), (144, 8), (145, 8), (146, 22), (147, 3), (148, 2), (149, 7), (150, 4), (151, 2), (152, 1), (153, 1), (154, 1), (155, 2), (156, 4), (157, 4), (158, 5), (159, 3), (160, 4), (161, 8), (162, 1), (163, 1), (164, 3), (165, 1), (166, 2)]]\n"
     ]
    }
   ],
   "source": [
    "corpus = [dictionary.doc2bow(doc) for doc in docs]\n",
    "print(corpus)"
   ]
  },
  {
   "cell_type": "code",
   "execution_count": 252,
   "metadata": {},
   "outputs": [
    {
     "name": "stdout",
     "output_type": "stream",
     "text": [
      "TfidfModel(num_docs=3, num_nnz=201)\n",
      "201\n"
     ]
    }
   ],
   "source": [
    "tf_idf = gensim.models.TfidfModel(corpus)\n",
    "print(tf_idf)\n",
    "s = 0\n",
    "for i in corpus:\n",
    "    s += len(i)\n",
    "print(s)"
   ]
  },
  {
   "cell_type": "code",
   "execution_count": null,
   "metadata": {
    "collapsed": true
   },
   "outputs": [],
   "source": []
  },
  {
   "cell_type": "code",
   "execution_count": 1,
   "metadata": {
    "collapsed": true
   },
   "outputs": [],
   "source": [
    "from sklearn.feature_extraction.text import TfidfVectorizer"
   ]
  },
  {
   "cell_type": "code",
   "execution_count": 15,
   "metadata": {
    "collapsed": true
   },
   "outputs": [],
   "source": [
    "vect = TfidfVectorizer(sublinear_tf=True, max_df=0.5, analyzer='word', \n",
    "           stop_words='english', vocabulary=terms)\n",
    "\n",
    "vect.fit(doc_list)\n",
    "corpus_tf_idf = vect.transform(doc_list) "
   ]
  },
  {
   "cell_type": "code",
   "execution_count": 16,
   "metadata": {},
   "outputs": [
    {
     "name": "stdout",
     "output_type": "stream",
     "text": [
      "  (0, 165)\t0.23490464527530794\n",
      "  (0, 161)\t0.13873846761367903\n",
      "  (0, 156)\t0.13873846761367903\n",
      "  (0, 140)\t0.2911582530450494\n",
      "  (0, 128)\t0.1055141806670843\n",
      "  (0, 126)\t0.30384198647478483\n",
      "  (0, 103)\t0.1055141806670843\n",
      "  (0, 102)\t0.23490464527530794\n",
      "  (0, 95)\t0.1055141806670843\n",
      "  (0, 56)\t0.408711059807519\n",
      "  (0, 51)\t0.23490464527530794\n",
      "  (0, 49)\t0.3620294173041447\n",
      "  (0, 48)\t0.33107082293693685\n",
      "  (0, 39)\t0.4216064170090753\n",
      "  (1, 160)\t0.1132714136875297\n",
      "  (1, 145)\t0.1917851747230801\n",
      "  (1, 135)\t0.1807866968918071\n",
      "  (1, 126)\t0.17457119184021352\n",
      "  (1, 121)\t0.23771278071945898\n",
      "  (1, 105)\t0.34881269679418087\n",
      "  (1, 88)\t0.2955747212712469\n",
      "  (1, 72)\t0.20556930772201182\n",
      "  (1, 71)\t0.1132714136875297\n",
      "  (1, 68)\t0.08614582973139068\n",
      "  (1, 66)\t0.33368740717993667\n",
      "  :\t:\n",
      "  (2, 128)\t0.04097755453371049\n",
      "  (2, 127)\t0.1285748760559809\n",
      "  (2, 126)\t0.2071464853412102\n",
      "  (2, 123)\t0.25263944988379644\n",
      "  (2, 118)\t0.0538805598130989\n",
      "  (2, 109)\t0.23342160423307193\n",
      "  (2, 103)\t0.1310144444743144\n",
      "  (2, 99)\t0.2688092533275026\n",
      "  (2, 96)\t0.24696256631795602\n",
      "  (2, 95)\t0.10692838435910003\n",
      "  (2, 94)\t0.19607444611163088\n",
      "  (2, 85)\t0.0912277179345399\n",
      "  (2, 77)\t0.19979182065046105\n",
      "  (2, 72)\t0.12071619378432531\n",
      "  (2, 68)\t0.09778450731627616\n",
      "  (2, 60)\t0.1803503057206848\n",
      "  (2, 59)\t0.0912277179345399\n",
      "  (2, 47)\t0.0538805598130989\n",
      "  (2, 43)\t0.27172242547708375\n",
      "  (2, 39)\t0.1460829067052963\n",
      "  (2, 38)\t0.11307440494408648\n",
      "  (2, 34)\t0.20326919229886287\n",
      "  (2, 28)\t0.24227434461564615\n",
      "  (2, 24)\t0.1460829067052963\n",
      "  (2, 19)\t0.2697979151910332\n"
     ]
    }
   ],
   "source": [
    "print(corpus_tf_idf)"
   ]
  },
  {
   "cell_type": "code",
   "execution_count": null,
   "metadata": {
    "collapsed": true
   },
   "outputs": [],
   "source": []
  }
 ],
 "metadata": {
  "kernelspec": {
   "display_name": "Python 3",
   "language": "python",
   "name": "python3"
  },
  "language_info": {
   "codemirror_mode": {
    "name": "ipython",
    "version": 3
   },
   "file_extension": ".py",
   "mimetype": "text/x-python",
   "name": "python",
   "nbconvert_exporter": "python",
   "pygments_lexer": "ipython3",
   "version": "3.6.3"
  }
 },
 "nbformat": 4,
 "nbformat_minor": 2
}
