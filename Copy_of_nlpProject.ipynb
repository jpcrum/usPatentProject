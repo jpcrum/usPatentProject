{
  "nbformat": 4,
  "nbformat_minor": 0,
  "metadata": {
    "colab": {
      "name": "Copy of nlpProject.ipynb",
      "version": "0.3.2",
      "provenance": [],
      "collapsed_sections": [],
      "include_colab_link": true
    },
    "kernelspec": {
      "name": "python3",
      "display_name": "Python 3"
    }
  },
  "cells": [
    {
      "cell_type": "markdown",
      "metadata": {
        "id": "view-in-github",
        "colab_type": "text"
      },
      "source": [
        "<a href=\"https://colab.research.google.com/github/jpcrum/usPatentProject/blob/master/Copy_of_nlpProject.ipynb\" target=\"_parent\"><img src=\"https://colab.research.google.com/assets/colab-badge.svg\" alt=\"Open In Colab\"/></a>"
      ]
    },
    {
      "metadata": {
        "id": "TeHLqj4liZrb",
        "colab_type": "code",
        "colab": {}
      },
      "cell_type": "code",
      "source": [
        ""
      ],
      "execution_count": 0,
      "outputs": []
    },
    {
      "metadata": {
        "id": "xgFtfevQvIHS",
        "colab_type": "code",
        "outputId": "aea439e0-4e1c-4d7c-cafa-d386f700190a",
        "colab": {
          "base_uri": "https://localhost:8080/",
          "height": 119
        }
      },
      "cell_type": "code",
      "source": [
        "!git clone https://github.com/jpcrum/usPatentProject.git"
      ],
      "execution_count": 0,
      "outputs": [
        {
          "output_type": "stream",
          "text": [
            "Cloning into 'usPatentProject'...\n",
            "remote: Enumerating objects: 6, done.\u001b[K\n",
            "remote: Counting objects: 100% (6/6), done.\u001b[K\n",
            "remote: Compressing objects: 100% (4/4), done.\u001b[K\n",
            "remote: Total 6 (delta 0), reused 0 (delta 0), pack-reused 0\u001b[K\n",
            "Unpacking objects: 100% (6/6), done.\n"
          ],
          "name": "stdout"
        }
      ]
    },
    {
      "metadata": {
        "id": "L6UnJ9c-icrX",
        "colab_type": "code",
        "outputId": "76f79c26-43ad-48f0-b222-6509afed722f",
        "colab": {
          "base_uri": "https://localhost:8080/",
          "height": 34
        }
      },
      "cell_type": "code",
      "source": [
        "import os\n",
        "import pandas as pd\n",
        "os.chdir('/content/usPatentProject')\n",
        "os.getcwd()"
      ],
      "execution_count": 0,
      "outputs": [
        {
          "output_type": "execute_result",
          "data": {
            "text/plain": [
              "'/content/usPatentProject'"
            ]
          },
          "metadata": {
            "tags": []
          },
          "execution_count": 26
        }
      ]
    },
    {
      "metadata": {
        "id": "qUauuRCSmAu6",
        "colab_type": "code",
        "colab": {}
      },
      "cell_type": "code",
      "source": [
        "df = pd.read_csv('sample_data.csv')"
      ],
      "execution_count": 0,
      "outputs": []
    },
    {
      "metadata": {
        "id": "g9tVYKPzykwk",
        "colab_type": "code",
        "outputId": "38445270-fd06-42ad-a85d-3e5e717f286d",
        "colab": {
          "base_uri": "https://localhost:8080/",
          "height": 34
        }
      },
      "cell_type": "code",
      "source": [
        "df.groupby(['pat_no'])"
      ],
      "execution_count": 0,
      "outputs": [
        {
          "output_type": "execute_result",
          "data": {
            "text/plain": [
              "<pandas.core.groupby.DataFrameGroupBy object at 0x7f7277d752b0>"
            ]
          },
          "metadata": {
            "tags": []
          },
          "execution_count": 28
        }
      ]
    },
    {
      "metadata": {
        "id": "yC7l1cr-y9V5",
        "colab_type": "code",
        "outputId": "4a402302-46f4-4a05-f5cf-22468034d2e0",
        "colab": {
          "base_uri": "https://localhost:8080/",
          "height": 1010
        }
      },
      "cell_type": "code",
      "source": [
        "df.sort_values(['pat_no', 'claim_no']).groupby(['pat_no'])\n",
        "df"
      ],
      "execution_count": 0,
      "outputs": [
        {
          "output_type": "execute_result",
          "data": {
            "text/html": [
              "<div>\n",
              "<style scoped>\n",
              "    .dataframe tbody tr th:only-of-type {\n",
              "        vertical-align: middle;\n",
              "    }\n",
              "\n",
              "    .dataframe tbody tr th {\n",
              "        vertical-align: top;\n",
              "    }\n",
              "\n",
              "    .dataframe thead th {\n",
              "        text-align: right;\n",
              "    }\n",
              "</style>\n",
              "<table border=\"1\" class=\"dataframe\">\n",
              "  <thead>\n",
              "    <tr style=\"text-align: right;\">\n",
              "      <th></th>\n",
              "      <th>pat_no</th>\n",
              "      <th>claim_no</th>\n",
              "      <th>claim_txt</th>\n",
              "      <th>dependencies</th>\n",
              "      <th>ind_flg</th>\n",
              "      <th>appl_id</th>\n",
              "    </tr>\n",
              "  </thead>\n",
              "  <tbody>\n",
              "    <tr>\n",
              "      <th>0</th>\n",
              "      <td>3930271</td>\n",
              "      <td>1</td>\n",
              "      <td>1. A golf glove comprising at least an index f...</td>\n",
              "      <td>NaN</td>\n",
              "      <td>1</td>\n",
              "      <td>NaN</td>\n",
              "    </tr>\n",
              "    <tr>\n",
              "      <th>1</th>\n",
              "      <td>3930271</td>\n",
              "      <td>4</td>\n",
              "      <td>4. A golf glove adapted for use on one hand of...</td>\n",
              "      <td>NaN</td>\n",
              "      <td>1</td>\n",
              "      <td>NaN</td>\n",
              "    </tr>\n",
              "    <tr>\n",
              "      <th>2</th>\n",
              "      <td>3930271</td>\n",
              "      <td>3</td>\n",
              "      <td>3. A glove comprising an index finger receptac...</td>\n",
              "      <td>NaN</td>\n",
              "      <td>1</td>\n",
              "      <td>NaN</td>\n",
              "    </tr>\n",
              "    <tr>\n",
              "      <th>3</th>\n",
              "      <td>3930271</td>\n",
              "      <td>2</td>\n",
              "      <td>2. A golf glove in accordance with claim 1 whe...</td>\n",
              "      <td>1.0</td>\n",
              "      <td>0</td>\n",
              "      <td>NaN</td>\n",
              "    </tr>\n",
              "    <tr>\n",
              "      <th>4</th>\n",
              "      <td>3930272</td>\n",
              "      <td>1</td>\n",
              "      <td>1. In combination with a height adjustable cri...</td>\n",
              "      <td>NaN</td>\n",
              "      <td>1</td>\n",
              "      <td>NaN</td>\n",
              "    </tr>\n",
              "    <tr>\n",
              "      <th>5</th>\n",
              "      <td>3930272</td>\n",
              "      <td>3</td>\n",
              "      <td>3. The lock defined in claim 1 wherein the piv...</td>\n",
              "      <td>1.0</td>\n",
              "      <td>0</td>\n",
              "      <td>NaN</td>\n",
              "    </tr>\n",
              "    <tr>\n",
              "      <th>6</th>\n",
              "      <td>3930272</td>\n",
              "      <td>2</td>\n",
              "      <td>2. The lock defined in claim 1 wherein the bra...</td>\n",
              "      <td>1.0</td>\n",
              "      <td>0</td>\n",
              "      <td>NaN</td>\n",
              "    </tr>\n",
              "    <tr>\n",
              "      <th>7</th>\n",
              "      <td>3930273</td>\n",
              "      <td>21</td>\n",
              "      <td>21. A bed arrangement comprisinga bed frame,a ...</td>\n",
              "      <td>NaN</td>\n",
              "      <td>1</td>\n",
              "      <td>NaN</td>\n",
              "    </tr>\n",
              "    <tr>\n",
              "      <th>8</th>\n",
              "      <td>3930273</td>\n",
              "      <td>20</td>\n",
              "      <td>20. A bed arrangement comprisinga bed frame,a ...</td>\n",
              "      <td>NaN</td>\n",
              "      <td>1</td>\n",
              "      <td>NaN</td>\n",
              "    </tr>\n",
              "    <tr>\n",
              "      <th>9</th>\n",
              "      <td>3930273</td>\n",
              "      <td>3</td>\n",
              "      <td>3. A bed arrangement according to claim 2,the ...</td>\n",
              "      <td>2.0</td>\n",
              "      <td>0</td>\n",
              "      <td>NaN</td>\n",
              "    </tr>\n",
              "    <tr>\n",
              "      <th>10</th>\n",
              "      <td>3930273</td>\n",
              "      <td>6</td>\n",
              "      <td>6. A bed arrangement according to claim 5,said...</td>\n",
              "      <td>5.0</td>\n",
              "      <td>0</td>\n",
              "      <td>NaN</td>\n",
              "    </tr>\n",
              "    <tr>\n",
              "      <th>11</th>\n",
              "      <td>3930273</td>\n",
              "      <td>23</td>\n",
              "      <td>23. A side rail assembly for selective detacha...</td>\n",
              "      <td>NaN</td>\n",
              "      <td>1</td>\n",
              "      <td>NaN</td>\n",
              "    </tr>\n",
              "    <tr>\n",
              "      <th>12</th>\n",
              "      <td>3930273</td>\n",
              "      <td>10</td>\n",
              "      <td>10. A bed arrangement according to claim 9,eac...</td>\n",
              "      <td>9.0</td>\n",
              "      <td>0</td>\n",
              "      <td>NaN</td>\n",
              "    </tr>\n",
              "    <tr>\n",
              "      <th>13</th>\n",
              "      <td>3930273</td>\n",
              "      <td>11</td>\n",
              "      <td>11. A bed arrangement according to claim 4,two...</td>\n",
              "      <td>4.0</td>\n",
              "      <td>0</td>\n",
              "      <td>NaN</td>\n",
              "    </tr>\n",
              "    <tr>\n",
              "      <th>14</th>\n",
              "      <td>3930273</td>\n",
              "      <td>5</td>\n",
              "      <td>5. A bed arrangement according to claim 4,said...</td>\n",
              "      <td>4.0</td>\n",
              "      <td>0</td>\n",
              "      <td>NaN</td>\n",
              "    </tr>\n",
              "    <tr>\n",
              "      <th>15</th>\n",
              "      <td>3930273</td>\n",
              "      <td>1</td>\n",
              "      <td>1. A bed arrangement comprisinga bed frame,a s...</td>\n",
              "      <td>NaN</td>\n",
              "      <td>1</td>\n",
              "      <td>NaN</td>\n",
              "    </tr>\n",
              "    <tr>\n",
              "      <th>16</th>\n",
              "      <td>3930273</td>\n",
              "      <td>24</td>\n",
              "      <td>24. A side rail assembly for selective detacha...</td>\n",
              "      <td>NaN</td>\n",
              "      <td>1</td>\n",
              "      <td>NaN</td>\n",
              "    </tr>\n",
              "    <tr>\n",
              "      <th>17</th>\n",
              "      <td>3930273</td>\n",
              "      <td>17</td>\n",
              "      <td>17. A side rail assembly for a bed, for select...</td>\n",
              "      <td>NaN</td>\n",
              "      <td>1</td>\n",
              "      <td>NaN</td>\n",
              "    </tr>\n",
              "    <tr>\n",
              "      <th>18</th>\n",
              "      <td>3930273</td>\n",
              "      <td>19</td>\n",
              "      <td>19. A bed arrangement comprisinga bed frame,a ...</td>\n",
              "      <td>NaN</td>\n",
              "      <td>1</td>\n",
              "      <td>NaN</td>\n",
              "    </tr>\n",
              "    <tr>\n",
              "      <th>19</th>\n",
              "      <td>3930273</td>\n",
              "      <td>4</td>\n",
              "      <td>4. A bed arrangement according to claim 3,said...</td>\n",
              "      <td>3.0</td>\n",
              "      <td>0</td>\n",
              "      <td>NaN</td>\n",
              "    </tr>\n",
              "    <tr>\n",
              "      <th>20</th>\n",
              "      <td>3930273</td>\n",
              "      <td>12</td>\n",
              "      <td>12. A bed arrangement according to claim 11,ea...</td>\n",
              "      <td>11.0</td>\n",
              "      <td>0</td>\n",
              "      <td>NaN</td>\n",
              "    </tr>\n",
              "    <tr>\n",
              "      <th>21</th>\n",
              "      <td>3930273</td>\n",
              "      <td>13</td>\n",
              "      <td>13. A bed arrangement according to claim 1,sai...</td>\n",
              "      <td>1.0</td>\n",
              "      <td>0</td>\n",
              "      <td>NaN</td>\n",
              "    </tr>\n",
              "    <tr>\n",
              "      <th>22</th>\n",
              "      <td>3930273</td>\n",
              "      <td>9</td>\n",
              "      <td>9. A bed arrangement according to claim 8,two ...</td>\n",
              "      <td>8.0</td>\n",
              "      <td>0</td>\n",
              "      <td>NaN</td>\n",
              "    </tr>\n",
              "    <tr>\n",
              "      <th>23</th>\n",
              "      <td>3930273</td>\n",
              "      <td>22</td>\n",
              "      <td>22. A bed arrangement according to claim 21,ea...</td>\n",
              "      <td>21.0</td>\n",
              "      <td>0</td>\n",
              "      <td>NaN</td>\n",
              "    </tr>\n",
              "    <tr>\n",
              "      <th>24</th>\n",
              "      <td>3930273</td>\n",
              "      <td>14</td>\n",
              "      <td>14. A bed arrangement according to claim 13,ea...</td>\n",
              "      <td>13.0</td>\n",
              "      <td>0</td>\n",
              "      <td>NaN</td>\n",
              "    </tr>\n",
              "    <tr>\n",
              "      <th>25</th>\n",
              "      <td>3930273</td>\n",
              "      <td>18</td>\n",
              "      <td>18. A side rail assembly according to claim 17...</td>\n",
              "      <td>17.0</td>\n",
              "      <td>0</td>\n",
              "      <td>NaN</td>\n",
              "    </tr>\n",
              "    <tr>\n",
              "      <th>26</th>\n",
              "      <td>3930273</td>\n",
              "      <td>2</td>\n",
              "      <td>2. A bed arrangement according to claim 1,each...</td>\n",
              "      <td>1.0</td>\n",
              "      <td>0</td>\n",
              "      <td>NaN</td>\n",
              "    </tr>\n",
              "    <tr>\n",
              "      <th>27</th>\n",
              "      <td>3930273</td>\n",
              "      <td>15</td>\n",
              "      <td>15. A bed arrangement according to claim 13,sa...</td>\n",
              "      <td>13.0</td>\n",
              "      <td>0</td>\n",
              "      <td>NaN</td>\n",
              "    </tr>\n",
              "    <tr>\n",
              "      <th>28</th>\n",
              "      <td>3930273</td>\n",
              "      <td>7</td>\n",
              "      <td>7. A bed arrangement according to claim 6,a pi...</td>\n",
              "      <td>6.0</td>\n",
              "      <td>0</td>\n",
              "      <td>NaN</td>\n",
              "    </tr>\n",
              "    <tr>\n",
              "      <th>29</th>\n",
              "      <td>3930273</td>\n",
              "      <td>16</td>\n",
              "      <td>16. A bed arrangement according to claim 13,tw...</td>\n",
              "      <td>13.0</td>\n",
              "      <td>0</td>\n",
              "      <td>NaN</td>\n",
              "    </tr>\n",
              "    <tr>\n",
              "      <th>30</th>\n",
              "      <td>3930273</td>\n",
              "      <td>8</td>\n",
              "      <td>8. A bed arrangement according to claim 6,said...</td>\n",
              "      <td>6.0</td>\n",
              "      <td>0</td>\n",
              "      <td>NaN</td>\n",
              "    </tr>\n",
              "  </tbody>\n",
              "</table>\n",
              "</div>"
            ],
            "text/plain": [
              "     pat_no  claim_no                                          claim_txt  \\\n",
              "0   3930271         1  1. A golf glove comprising at least an index f...   \n",
              "1   3930271         4  4. A golf glove adapted for use on one hand of...   \n",
              "2   3930271         3  3. A glove comprising an index finger receptac...   \n",
              "3   3930271         2  2. A golf glove in accordance with claim 1 whe...   \n",
              "4   3930272         1  1. In combination with a height adjustable cri...   \n",
              "5   3930272         3  3. The lock defined in claim 1 wherein the piv...   \n",
              "6   3930272         2  2. The lock defined in claim 1 wherein the bra...   \n",
              "7   3930273        21  21. A bed arrangement comprisinga bed frame,a ...   \n",
              "8   3930273        20  20. A bed arrangement comprisinga bed frame,a ...   \n",
              "9   3930273         3  3. A bed arrangement according to claim 2,the ...   \n",
              "10  3930273         6  6. A bed arrangement according to claim 5,said...   \n",
              "11  3930273        23  23. A side rail assembly for selective detacha...   \n",
              "12  3930273        10  10. A bed arrangement according to claim 9,eac...   \n",
              "13  3930273        11  11. A bed arrangement according to claim 4,two...   \n",
              "14  3930273         5  5. A bed arrangement according to claim 4,said...   \n",
              "15  3930273         1  1. A bed arrangement comprisinga bed frame,a s...   \n",
              "16  3930273        24  24. A side rail assembly for selective detacha...   \n",
              "17  3930273        17  17. A side rail assembly for a bed, for select...   \n",
              "18  3930273        19  19. A bed arrangement comprisinga bed frame,a ...   \n",
              "19  3930273         4  4. A bed arrangement according to claim 3,said...   \n",
              "20  3930273        12  12. A bed arrangement according to claim 11,ea...   \n",
              "21  3930273        13  13. A bed arrangement according to claim 1,sai...   \n",
              "22  3930273         9  9. A bed arrangement according to claim 8,two ...   \n",
              "23  3930273        22  22. A bed arrangement according to claim 21,ea...   \n",
              "24  3930273        14  14. A bed arrangement according to claim 13,ea...   \n",
              "25  3930273        18  18. A side rail assembly according to claim 17...   \n",
              "26  3930273         2  2. A bed arrangement according to claim 1,each...   \n",
              "27  3930273        15  15. A bed arrangement according to claim 13,sa...   \n",
              "28  3930273         7  7. A bed arrangement according to claim 6,a pi...   \n",
              "29  3930273        16  16. A bed arrangement according to claim 13,tw...   \n",
              "30  3930273         8  8. A bed arrangement according to claim 6,said...   \n",
              "\n",
              "    dependencies  ind_flg  appl_id  \n",
              "0            NaN        1      NaN  \n",
              "1            NaN        1      NaN  \n",
              "2            NaN        1      NaN  \n",
              "3            1.0        0      NaN  \n",
              "4            NaN        1      NaN  \n",
              "5            1.0        0      NaN  \n",
              "6            1.0        0      NaN  \n",
              "7            NaN        1      NaN  \n",
              "8            NaN        1      NaN  \n",
              "9            2.0        0      NaN  \n",
              "10           5.0        0      NaN  \n",
              "11           NaN        1      NaN  \n",
              "12           9.0        0      NaN  \n",
              "13           4.0        0      NaN  \n",
              "14           4.0        0      NaN  \n",
              "15           NaN        1      NaN  \n",
              "16           NaN        1      NaN  \n",
              "17           NaN        1      NaN  \n",
              "18           NaN        1      NaN  \n",
              "19           3.0        0      NaN  \n",
              "20          11.0        0      NaN  \n",
              "21           1.0        0      NaN  \n",
              "22           8.0        0      NaN  \n",
              "23          21.0        0      NaN  \n",
              "24          13.0        0      NaN  \n",
              "25          17.0        0      NaN  \n",
              "26           1.0        0      NaN  \n",
              "27          13.0        0      NaN  \n",
              "28           6.0        0      NaN  \n",
              "29          13.0        0      NaN  \n",
              "30           6.0        0      NaN  "
            ]
          },
          "metadata": {
            "tags": []
          },
          "execution_count": 29
        }
      ]
    },
    {
      "metadata": {
        "id": "9rZAPIU2z97h",
        "colab_type": "code",
        "outputId": "c806419f-d856-4134-ba0b-4a210c99b33e",
        "colab": {
          "base_uri": "https://localhost:8080/",
          "height": 54
        }
      },
      "cell_type": "code",
      "source": [
        "df1 = df.sort_values(['pat_no', 'claim_no']).groupby('pat_no', sort=False).claim_txt.apply(' '.join).reset_index(name='new_seq')\n",
        "df1.iloc[1,1]"
      ],
      "execution_count": 0,
      "outputs": [
        {
          "output_type": "execute_result",
          "data": {
            "text/plain": [
              "'1. In combination with a height adjustable crib or the like of the type having a corner post and an extensible leg slidably connected to the corner post and having a series of holes along its length, a lock comprisingA. a rigid bracket extending around the extensible leg and having sides lying flush against opposite sides of the corner post;B. means for pivotally connecting the bracket sides to the corner post so that the bracket can be swung toward and away from the leg;C. a rigid nose projecting from the bracket and extending toward the leg, said nose being arranged to engage in one of the leg holes when the bracket is swung against the leg so as to lock the leg at a selected position of lengthwise adjustment relative to the corner post, andD. means mounted on the corner post and cooperating with the bracket for removably retaining the bracket with its nose in said hole said retaining means comprising1. a latch pivotally connected to the corner post adjacent to the bracket, and a slot formed in a side of the bracket, the sides of the slot being engaged by the latch when the bracket is positioned with its nose in said hole. 2. The lock defined in claim 1 wherein the bracket comprises a single rigid metal stamping. 3. The lock defined in claim 1 wherein the pivotal connection of the latch to the corner post is off center so that the force of gravity tends to maintain the latch in the slot when the bracket is positioned with its nose in said hole.'"
            ]
          },
          "metadata": {
            "tags": []
          },
          "execution_count": 31
        }
      ]
    }
  ]
}